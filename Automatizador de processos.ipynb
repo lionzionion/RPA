{
 "cells": [
  {
   "cell_type": "code",
   "execution_count": 1,
   "id": "4755ba12",
   "metadata": {},
   "outputs": [
    {
     "name": "stdout",
     "output_type": "stream",
     "text": [
      "Defaulting to user installation because normal site-packages is not writeable\n",
      "Requirement already satisfied: yfinance in c:\\users\\dias_\\appdata\\roaming\\python\\python311\\site-packages (0.2.31)\n",
      "Requirement already satisfied: pandas>=1.3.0 in c:\\programdata\\anaconda3\\lib\\site-packages (from yfinance) (2.0.3)\n",
      "Requirement already satisfied: numpy>=1.16.5 in c:\\programdata\\anaconda3\\lib\\site-packages (from yfinance) (1.24.3)\n",
      "Requirement already satisfied: requests>=2.31 in c:\\programdata\\anaconda3\\lib\\site-packages (from yfinance) (2.31.0)\n",
      "Requirement already satisfied: multitasking>=0.0.7 in c:\\users\\dias_\\appdata\\roaming\\python\\python311\\site-packages (from yfinance) (0.0.11)\n",
      "Requirement already satisfied: lxml>=4.9.1 in c:\\programdata\\anaconda3\\lib\\site-packages (from yfinance) (4.9.3)\n",
      "Requirement already satisfied: appdirs>=1.4.4 in c:\\programdata\\anaconda3\\lib\\site-packages (from yfinance) (1.4.4)\n",
      "Requirement already satisfied: pytz>=2022.5 in c:\\programdata\\anaconda3\\lib\\site-packages (from yfinance) (2023.3.post1)\n",
      "Requirement already satisfied: frozendict>=2.3.4 in c:\\users\\dias_\\appdata\\roaming\\python\\python311\\site-packages (from yfinance) (2.3.8)\n",
      "Requirement already satisfied: peewee>=3.16.2 in c:\\users\\dias_\\appdata\\roaming\\python\\python311\\site-packages (from yfinance) (3.17.0)\n",
      "Requirement already satisfied: beautifulsoup4>=4.11.1 in c:\\programdata\\anaconda3\\lib\\site-packages (from yfinance) (4.12.2)\n",
      "Requirement already satisfied: html5lib>=1.1 in c:\\users\\dias_\\appdata\\roaming\\python\\python311\\site-packages (from yfinance) (1.1)\n",
      "Requirement already satisfied: soupsieve>1.2 in c:\\programdata\\anaconda3\\lib\\site-packages (from beautifulsoup4>=4.11.1->yfinance) (2.4)\n",
      "Requirement already satisfied: six>=1.9 in c:\\programdata\\anaconda3\\lib\\site-packages (from html5lib>=1.1->yfinance) (1.16.0)\n",
      "Requirement already satisfied: webencodings in c:\\programdata\\anaconda3\\lib\\site-packages (from html5lib>=1.1->yfinance) (0.5.1)\n",
      "Requirement already satisfied: python-dateutil>=2.8.2 in c:\\programdata\\anaconda3\\lib\\site-packages (from pandas>=1.3.0->yfinance) (2.8.2)\n",
      "Requirement already satisfied: tzdata>=2022.1 in c:\\programdata\\anaconda3\\lib\\site-packages (from pandas>=1.3.0->yfinance) (2023.3)\n",
      "Requirement already satisfied: charset-normalizer<4,>=2 in c:\\programdata\\anaconda3\\lib\\site-packages (from requests>=2.31->yfinance) (2.0.4)\n",
      "Requirement already satisfied: idna<4,>=2.5 in c:\\programdata\\anaconda3\\lib\\site-packages (from requests>=2.31->yfinance) (3.4)\n",
      "Requirement already satisfied: urllib3<3,>=1.21.1 in c:\\programdata\\anaconda3\\lib\\site-packages (from requests>=2.31->yfinance) (1.26.16)\n",
      "Requirement already satisfied: certifi>=2017.4.17 in c:\\programdata\\anaconda3\\lib\\site-packages (from requests>=2.31->yfinance) (2023.7.22)\n"
     ]
    }
   ],
   "source": [
    "!pip install yfinance"
   ]
  },
  {
   "cell_type": "code",
   "execution_count": 2,
   "id": "6517e684",
   "metadata": {},
   "outputs": [],
   "source": [
    "import yfinance"
   ]
  },
  {
   "cell_type": "code",
   "execution_count": 3,
   "id": "c18b647b",
   "metadata": {},
   "outputs": [
    {
     "name": "stdout",
     "output_type": "stream",
     "text": [
      "Defaulting to user installation because normal site-packages is not writeable\n",
      "Requirement already satisfied: pyautogui in c:\\users\\dias_\\appdata\\roaming\\python\\python311\\site-packages (0.9.54)\n",
      "Requirement already satisfied: pymsgbox in c:\\users\\dias_\\appdata\\roaming\\python\\python311\\site-packages (from pyautogui) (1.0.9)\n",
      "Requirement already satisfied: pytweening>=1.0.4 in c:\\users\\dias_\\appdata\\roaming\\python\\python311\\site-packages (from pyautogui) (1.0.7)\n",
      "Requirement already satisfied: pyscreeze>=0.1.21 in c:\\users\\dias_\\appdata\\roaming\\python\\python311\\site-packages (from pyautogui) (0.1.29)\n",
      "Requirement already satisfied: pygetwindow>=0.0.5 in c:\\users\\dias_\\appdata\\roaming\\python\\python311\\site-packages (from pyautogui) (0.0.9)\n",
      "Requirement already satisfied: mouseinfo in c:\\users\\dias_\\appdata\\roaming\\python\\python311\\site-packages (from pyautogui) (0.1.3)\n",
      "Requirement already satisfied: pyrect in c:\\users\\dias_\\appdata\\roaming\\python\\python311\\site-packages (from pygetwindow>=0.0.5->pyautogui) (0.2.0)\n",
      "Requirement already satisfied: pyscreenshot in c:\\users\\dias_\\appdata\\roaming\\python\\python311\\site-packages (from pyscreeze>=0.1.21->pyautogui) (3.1)\n",
      "Requirement already satisfied: Pillow>=9.3.0 in c:\\programdata\\anaconda3\\lib\\site-packages (from pyscreeze>=0.1.21->pyautogui) (9.4.0)\n",
      "Requirement already satisfied: pyperclip in c:\\users\\dias_\\appdata\\roaming\\python\\python311\\site-packages (from mouseinfo->pyautogui) (1.8.2)\n",
      "Requirement already satisfied: EasyProcess in c:\\users\\dias_\\appdata\\roaming\\python\\python311\\site-packages (from pyscreenshot->pyscreeze>=0.1.21->pyautogui) (1.1)\n",
      "Requirement already satisfied: entrypoint2 in c:\\users\\dias_\\appdata\\roaming\\python\\python311\\site-packages (from pyscreenshot->pyscreeze>=0.1.21->pyautogui) (1.1)\n",
      "Requirement already satisfied: mss in c:\\users\\dias_\\appdata\\roaming\\python\\python311\\site-packages (from pyscreenshot->pyscreeze>=0.1.21->pyautogui) (9.0.1)\n"
     ]
    }
   ],
   "source": [
    " !pip install pyautogui"
   ]
  },
  {
   "cell_type": "code",
   "execution_count": 4,
   "id": "b352f2f5",
   "metadata": {},
   "outputs": [
    {
     "name": "stdout",
     "output_type": "stream",
     "text": [
      "Defaulting to user installation because normal site-packages is not writeable\n",
      "Requirement already satisfied: pyperclip in c:\\users\\dias_\\appdata\\roaming\\python\\python311\\site-packages (1.8.2)\n"
     ]
    }
   ],
   "source": [
    "!pip install pyperclip"
   ]
  },
  {
   "cell_type": "code",
   "execution_count": 5,
   "id": "eaa74639",
   "metadata": {},
   "outputs": [],
   "source": [
    "import pyautogui\n",
    "import pyperclip"
   ]
  },
  {
   "cell_type": "markdown",
   "id": "3f97b4fa",
   "metadata": {},
   "source": [
    "# Buscando as cotações de uma Ação"
   ]
  },
  {
   "cell_type": "code",
   "execution_count": 6,
   "id": "57764701",
   "metadata": {
    "scrolled": true
   },
   "outputs": [
    {
     "name": "stdout",
     "output_type": "stream",
     "text": [
      "Digite o código da ação: SBUX\n"
     ]
    },
    {
     "data": {
      "text/html": [
       "<div>\n",
       "<style scoped>\n",
       "    .dataframe tbody tr th:only-of-type {\n",
       "        vertical-align: middle;\n",
       "    }\n",
       "\n",
       "    .dataframe tbody tr th {\n",
       "        vertical-align: top;\n",
       "    }\n",
       "\n",
       "    .dataframe thead th {\n",
       "        text-align: right;\n",
       "    }\n",
       "</style>\n",
       "<table border=\"1\" class=\"dataframe\">\n",
       "  <thead>\n",
       "    <tr style=\"text-align: right;\">\n",
       "      <th></th>\n",
       "      <th>Open</th>\n",
       "      <th>High</th>\n",
       "      <th>Low</th>\n",
       "      <th>Close</th>\n",
       "      <th>Volume</th>\n",
       "      <th>Dividends</th>\n",
       "      <th>Stock Splits</th>\n",
       "    </tr>\n",
       "    <tr>\n",
       "      <th>Date</th>\n",
       "      <th></th>\n",
       "      <th></th>\n",
       "      <th></th>\n",
       "      <th></th>\n",
       "      <th></th>\n",
       "      <th></th>\n",
       "      <th></th>\n",
       "    </tr>\n",
       "  </thead>\n",
       "  <tbody>\n",
       "    <tr>\n",
       "      <th>2023-09-19 00:00:00-04:00</th>\n",
       "      <td>95.209999</td>\n",
       "      <td>95.470001</td>\n",
       "      <td>94.269997</td>\n",
       "      <td>95.290001</td>\n",
       "      <td>6803000</td>\n",
       "      <td>0.0</td>\n",
       "      <td>0.0</td>\n",
       "    </tr>\n",
       "    <tr>\n",
       "      <th>2023-09-20 00:00:00-04:00</th>\n",
       "      <td>95.449997</td>\n",
       "      <td>96.620003</td>\n",
       "      <td>95.050003</td>\n",
       "      <td>95.160004</td>\n",
       "      <td>4572100</td>\n",
       "      <td>0.0</td>\n",
       "      <td>0.0</td>\n",
       "    </tr>\n",
       "    <tr>\n",
       "      <th>2023-09-21 00:00:00-04:00</th>\n",
       "      <td>95.160004</td>\n",
       "      <td>95.320000</td>\n",
       "      <td>93.029999</td>\n",
       "      <td>93.099998</td>\n",
       "      <td>6108800</td>\n",
       "      <td>0.0</td>\n",
       "      <td>0.0</td>\n",
       "    </tr>\n",
       "    <tr>\n",
       "      <th>2023-09-22 00:00:00-04:00</th>\n",
       "      <td>93.430000</td>\n",
       "      <td>94.339996</td>\n",
       "      <td>93.370003</td>\n",
       "      <td>93.680000</td>\n",
       "      <td>5118900</td>\n",
       "      <td>0.0</td>\n",
       "      <td>0.0</td>\n",
       "    </tr>\n",
       "    <tr>\n",
       "      <th>2023-09-25 00:00:00-04:00</th>\n",
       "      <td>92.889999</td>\n",
       "      <td>93.470001</td>\n",
       "      <td>92.250000</td>\n",
       "      <td>92.739998</td>\n",
       "      <td>4818800</td>\n",
       "      <td>0.0</td>\n",
       "      <td>0.0</td>\n",
       "    </tr>\n",
       "    <tr>\n",
       "      <th>2023-09-26 00:00:00-04:00</th>\n",
       "      <td>92.000000</td>\n",
       "      <td>92.489998</td>\n",
       "      <td>91.180000</td>\n",
       "      <td>92.000000</td>\n",
       "      <td>6086600</td>\n",
       "      <td>0.0</td>\n",
       "      <td>0.0</td>\n",
       "    </tr>\n",
       "    <tr>\n",
       "      <th>2023-09-27 00:00:00-04:00</th>\n",
       "      <td>92.459999</td>\n",
       "      <td>92.730003</td>\n",
       "      <td>90.379997</td>\n",
       "      <td>91.169998</td>\n",
       "      <td>4731500</td>\n",
       "      <td>0.0</td>\n",
       "      <td>0.0</td>\n",
       "    </tr>\n",
       "    <tr>\n",
       "      <th>2023-09-28 00:00:00-04:00</th>\n",
       "      <td>91.169998</td>\n",
       "      <td>91.389999</td>\n",
       "      <td>90.209999</td>\n",
       "      <td>91.080002</td>\n",
       "      <td>4736300</td>\n",
       "      <td>0.0</td>\n",
       "      <td>0.0</td>\n",
       "    </tr>\n",
       "    <tr>\n",
       "      <th>2023-09-29 00:00:00-04:00</th>\n",
       "      <td>92.610001</td>\n",
       "      <td>93.059998</td>\n",
       "      <td>90.839996</td>\n",
       "      <td>91.269997</td>\n",
       "      <td>7698600</td>\n",
       "      <td>0.0</td>\n",
       "      <td>0.0</td>\n",
       "    </tr>\n",
       "    <tr>\n",
       "      <th>2023-10-02 00:00:00-04:00</th>\n",
       "      <td>91.050003</td>\n",
       "      <td>91.739998</td>\n",
       "      <td>90.790001</td>\n",
       "      <td>91.129997</td>\n",
       "      <td>6430500</td>\n",
       "      <td>0.0</td>\n",
       "      <td>0.0</td>\n",
       "    </tr>\n",
       "    <tr>\n",
       "      <th>2023-10-03 00:00:00-04:00</th>\n",
       "      <td>90.500000</td>\n",
       "      <td>91.070000</td>\n",
       "      <td>89.209999</td>\n",
       "      <td>89.480003</td>\n",
       "      <td>6666600</td>\n",
       "      <td>0.0</td>\n",
       "      <td>0.0</td>\n",
       "    </tr>\n",
       "    <tr>\n",
       "      <th>2023-10-04 00:00:00-04:00</th>\n",
       "      <td>89.889999</td>\n",
       "      <td>91.430000</td>\n",
       "      <td>89.809998</td>\n",
       "      <td>91.150002</td>\n",
       "      <td>6166100</td>\n",
       "      <td>0.0</td>\n",
       "      <td>0.0</td>\n",
       "    </tr>\n",
       "    <tr>\n",
       "      <th>2023-10-05 00:00:00-04:00</th>\n",
       "      <td>91.139999</td>\n",
       "      <td>93.050003</td>\n",
       "      <td>91.139999</td>\n",
       "      <td>92.370003</td>\n",
       "      <td>7548600</td>\n",
       "      <td>0.0</td>\n",
       "      <td>0.0</td>\n",
       "    </tr>\n",
       "    <tr>\n",
       "      <th>2023-10-06 00:00:00-04:00</th>\n",
       "      <td>92.000000</td>\n",
       "      <td>93.339996</td>\n",
       "      <td>91.680000</td>\n",
       "      <td>92.849998</td>\n",
       "      <td>6978900</td>\n",
       "      <td>0.0</td>\n",
       "      <td>0.0</td>\n",
       "    </tr>\n",
       "    <tr>\n",
       "      <th>2023-10-09 00:00:00-04:00</th>\n",
       "      <td>92.449997</td>\n",
       "      <td>92.790001</td>\n",
       "      <td>91.430000</td>\n",
       "      <td>92.680000</td>\n",
       "      <td>4120700</td>\n",
       "      <td>0.0</td>\n",
       "      <td>0.0</td>\n",
       "    </tr>\n",
       "    <tr>\n",
       "      <th>2023-10-10 00:00:00-04:00</th>\n",
       "      <td>92.959999</td>\n",
       "      <td>93.970001</td>\n",
       "      <td>92.870003</td>\n",
       "      <td>93.180000</td>\n",
       "      <td>4974800</td>\n",
       "      <td>0.0</td>\n",
       "      <td>0.0</td>\n",
       "    </tr>\n",
       "    <tr>\n",
       "      <th>2023-10-11 00:00:00-04:00</th>\n",
       "      <td>93.290001</td>\n",
       "      <td>93.629997</td>\n",
       "      <td>91.849998</td>\n",
       "      <td>91.949997</td>\n",
       "      <td>4499200</td>\n",
       "      <td>0.0</td>\n",
       "      <td>0.0</td>\n",
       "    </tr>\n",
       "    <tr>\n",
       "      <th>2023-10-12 00:00:00-04:00</th>\n",
       "      <td>91.839996</td>\n",
       "      <td>92.250000</td>\n",
       "      <td>90.769997</td>\n",
       "      <td>91.419998</td>\n",
       "      <td>5485200</td>\n",
       "      <td>0.0</td>\n",
       "      <td>0.0</td>\n",
       "    </tr>\n",
       "    <tr>\n",
       "      <th>2023-10-13 00:00:00-04:00</th>\n",
       "      <td>91.279999</td>\n",
       "      <td>92.059998</td>\n",
       "      <td>91.050003</td>\n",
       "      <td>91.480003</td>\n",
       "      <td>4780100</td>\n",
       "      <td>0.0</td>\n",
       "      <td>0.0</td>\n",
       "    </tr>\n",
       "    <tr>\n",
       "      <th>2023-10-16 00:00:00-04:00</th>\n",
       "      <td>92.169998</td>\n",
       "      <td>93.860001</td>\n",
       "      <td>91.849998</td>\n",
       "      <td>93.650002</td>\n",
       "      <td>4595900</td>\n",
       "      <td>0.0</td>\n",
       "      <td>0.0</td>\n",
       "    </tr>\n",
       "    <tr>\n",
       "      <th>2023-10-17 00:00:00-04:00</th>\n",
       "      <td>92.750000</td>\n",
       "      <td>94.190002</td>\n",
       "      <td>92.629997</td>\n",
       "      <td>94.180000</td>\n",
       "      <td>6086700</td>\n",
       "      <td>0.0</td>\n",
       "      <td>0.0</td>\n",
       "    </tr>\n",
       "    <tr>\n",
       "      <th>2023-10-18 00:00:00-04:00</th>\n",
       "      <td>93.940002</td>\n",
       "      <td>94.529999</td>\n",
       "      <td>93.500000</td>\n",
       "      <td>93.750000</td>\n",
       "      <td>4048108</td>\n",
       "      <td>0.0</td>\n",
       "      <td>0.0</td>\n",
       "    </tr>\n",
       "  </tbody>\n",
       "</table>\n",
       "</div>"
      ],
      "text/plain": [
       "                                Open       High        Low      Close  \\\n",
       "Date                                                                    \n",
       "2023-09-19 00:00:00-04:00  95.209999  95.470001  94.269997  95.290001   \n",
       "2023-09-20 00:00:00-04:00  95.449997  96.620003  95.050003  95.160004   \n",
       "2023-09-21 00:00:00-04:00  95.160004  95.320000  93.029999  93.099998   \n",
       "2023-09-22 00:00:00-04:00  93.430000  94.339996  93.370003  93.680000   \n",
       "2023-09-25 00:00:00-04:00  92.889999  93.470001  92.250000  92.739998   \n",
       "2023-09-26 00:00:00-04:00  92.000000  92.489998  91.180000  92.000000   \n",
       "2023-09-27 00:00:00-04:00  92.459999  92.730003  90.379997  91.169998   \n",
       "2023-09-28 00:00:00-04:00  91.169998  91.389999  90.209999  91.080002   \n",
       "2023-09-29 00:00:00-04:00  92.610001  93.059998  90.839996  91.269997   \n",
       "2023-10-02 00:00:00-04:00  91.050003  91.739998  90.790001  91.129997   \n",
       "2023-10-03 00:00:00-04:00  90.500000  91.070000  89.209999  89.480003   \n",
       "2023-10-04 00:00:00-04:00  89.889999  91.430000  89.809998  91.150002   \n",
       "2023-10-05 00:00:00-04:00  91.139999  93.050003  91.139999  92.370003   \n",
       "2023-10-06 00:00:00-04:00  92.000000  93.339996  91.680000  92.849998   \n",
       "2023-10-09 00:00:00-04:00  92.449997  92.790001  91.430000  92.680000   \n",
       "2023-10-10 00:00:00-04:00  92.959999  93.970001  92.870003  93.180000   \n",
       "2023-10-11 00:00:00-04:00  93.290001  93.629997  91.849998  91.949997   \n",
       "2023-10-12 00:00:00-04:00  91.839996  92.250000  90.769997  91.419998   \n",
       "2023-10-13 00:00:00-04:00  91.279999  92.059998  91.050003  91.480003   \n",
       "2023-10-16 00:00:00-04:00  92.169998  93.860001  91.849998  93.650002   \n",
       "2023-10-17 00:00:00-04:00  92.750000  94.190002  92.629997  94.180000   \n",
       "2023-10-18 00:00:00-04:00  93.940002  94.529999  93.500000  93.750000   \n",
       "\n",
       "                            Volume  Dividends  Stock Splits  \n",
       "Date                                                         \n",
       "2023-09-19 00:00:00-04:00  6803000        0.0           0.0  \n",
       "2023-09-20 00:00:00-04:00  4572100        0.0           0.0  \n",
       "2023-09-21 00:00:00-04:00  6108800        0.0           0.0  \n",
       "2023-09-22 00:00:00-04:00  5118900        0.0           0.0  \n",
       "2023-09-25 00:00:00-04:00  4818800        0.0           0.0  \n",
       "2023-09-26 00:00:00-04:00  6086600        0.0           0.0  \n",
       "2023-09-27 00:00:00-04:00  4731500        0.0           0.0  \n",
       "2023-09-28 00:00:00-04:00  4736300        0.0           0.0  \n",
       "2023-09-29 00:00:00-04:00  7698600        0.0           0.0  \n",
       "2023-10-02 00:00:00-04:00  6430500        0.0           0.0  \n",
       "2023-10-03 00:00:00-04:00  6666600        0.0           0.0  \n",
       "2023-10-04 00:00:00-04:00  6166100        0.0           0.0  \n",
       "2023-10-05 00:00:00-04:00  7548600        0.0           0.0  \n",
       "2023-10-06 00:00:00-04:00  6978900        0.0           0.0  \n",
       "2023-10-09 00:00:00-04:00  4120700        0.0           0.0  \n",
       "2023-10-10 00:00:00-04:00  4974800        0.0           0.0  \n",
       "2023-10-11 00:00:00-04:00  4499200        0.0           0.0  \n",
       "2023-10-12 00:00:00-04:00  5485200        0.0           0.0  \n",
       "2023-10-13 00:00:00-04:00  4780100        0.0           0.0  \n",
       "2023-10-16 00:00:00-04:00  4595900        0.0           0.0  \n",
       "2023-10-17 00:00:00-04:00  6086700        0.0           0.0  \n",
       "2023-10-18 00:00:00-04:00  4048108        0.0           0.0  "
      ]
     },
     "execution_count": 6,
     "metadata": {},
     "output_type": "execute_result"
    }
   ],
   "source": [
    "ticker = input('Digite o código da ação: ')\n",
    "dados = yfinance.Ticker(ticker)\n",
    "dados.history()"
   ]
  },
  {
   "cell_type": "markdown",
   "id": "ef51f373",
   "metadata": {},
   "source": [
    "# Configurando o período histórico"
   ]
  },
  {
   "cell_type": "code",
   "execution_count": 7,
   "id": "62c5fb9d",
   "metadata": {},
   "outputs": [],
   "source": [
    "tabela = dados.history(\"6mo\")"
   ]
  },
  {
   "cell_type": "markdown",
   "id": "4166aa2d",
   "metadata": {},
   "source": [
    "# Selecionando apenas a coluna de Fechamento (Close)"
   ]
  },
  {
   "cell_type": "code",
   "execution_count": 8,
   "id": "8d7e6320",
   "metadata": {},
   "outputs": [
    {
     "data": {
      "text/plain": [
       "Date\n",
       "2023-04-19 00:00:00-04:00    106.063484\n",
       "2023-04-20 00:00:00-04:00    105.954605\n",
       "2023-04-21 00:00:00-04:00    107.082947\n",
       "2023-04-24 00:00:00-04:00    108.171684\n",
       "2023-04-25 00:00:00-04:00    108.221169\n",
       "                                ...    \n",
       "2023-10-12 00:00:00-04:00     91.419998\n",
       "2023-10-13 00:00:00-04:00     91.480003\n",
       "2023-10-16 00:00:00-04:00     93.650002\n",
       "2023-10-17 00:00:00-04:00     94.180000\n",
       "2023-10-18 00:00:00-04:00     93.750000\n",
       "Name: Close, Length: 127, dtype: float64"
      ]
     },
     "execution_count": 8,
     "metadata": {},
     "output_type": "execute_result"
    }
   ],
   "source": [
    "fechamento = tabela.Close\n",
    "fechamento"
   ]
  },
  {
   "cell_type": "markdown",
   "id": "4f95623f",
   "metadata": {},
   "source": [
    "# Gerando um gráfico de linha"
   ]
  },
  {
   "cell_type": "code",
   "execution_count": 9,
   "id": "a931c4d5",
   "metadata": {},
   "outputs": [
    {
     "data": {
      "text/plain": [
       "<Axes: xlabel='Date'>"
      ]
     },
     "execution_count": 9,
     "metadata": {},
     "output_type": "execute_result"
    },
    {
     "data": {
      "image/png": "[encoded data removed]",
      "text/plain": [
       "<Figure size 640x480 with 1 Axes>"
      ]
     },
     "metadata": {},
     "output_type": "display_data"
    }
   ],
   "source": [
    "fechamento.plot()"
   ]
  },
  {
   "cell_type": "markdown",
   "id": "faead51d",
   "metadata": {},
   "source": [
    "# Gerando as estatísticas"
   ]
  },
  {
   "cell_type": "code",
   "execution_count": 10,
   "id": "f6dcb986",
   "metadata": {},
   "outputs": [
    {
     "name": "stdout",
     "output_type": "stream",
     "text": [
      "113.38775634765625\n",
      "89.4800033569336\n",
      "93.75\n"
     ]
    }
   ],
   "source": [
    "maxima = fechamento.max()\n",
    "minima = fechamento.min()\n",
    "atual = fechamento[-1]\n",
    "print(maxima)\n",
    "print(minima)\n",
    "print(atual)"
   ]
  },
  {
   "cell_type": "markdown",
   "id": "19d39567",
   "metadata": {},
   "source": [
    "# Criando o e-mail que vamos enviar"
   ]
  },
  {
   "cell_type": "code",
   "execution_count": 11,
   "id": "efec4ed1",
   "metadata": {},
   "outputs": [],
   "source": [
    "destinatario = \"amadeudevpython@gmail.com\"\n",
    "assunto = \"Análise diária\"\n",
    "mensagem = f\"\"\"\n",
    "Bom dia,\n",
    "Segue abaixo as análises da ação {ticker} dos últimos seis meses:\n",
    "Cotação máxima: R${round(maxima,2)}\n",
    "Cotação mínima: R${round(minima,2)}\n",
    "Cotação atual: R${round(atual,2)}\n",
    "Atenciosamente,\n",
    "Leandro Amadeu Lima Dias.\n",
    "\"\"\""
   ]
  },
  {
   "cell_type": "code",
   "execution_count": 12,
   "id": "01a540ba",
   "metadata": {},
   "outputs": [
    {
     "name": "stdout",
     "output_type": "stream",
     "text": [
      "amadeudevpython@gmail.com\n",
      "Análise diária\n",
      "\n",
      "Bom dia,\n",
      "Segue abaixo as análises da ação SBUX dos últimos seis meses:\n",
      "Cotação máxima: R$113.39\n",
      "Cotação mínima: R$89.48\n",
      "Cotação atual: R$93.75\n",
      "Atenciosamente,\n",
      "Leandro Amadeu Lima Dias.\n",
      "\n"
     ]
    }
   ],
   "source": [
    "print(destinatario)\n",
    "print(assunto)\n",
    "print(mensagem)"
   ]
  },
  {
   "cell_type": "markdown",
   "id": "c14a6b18",
   "metadata": {},
   "source": [
    "# Automatizando o envio"
   ]
  },
  {
   "cell_type": "code",
   "execution_count": 13,
   "id": "d80b8daa",
   "metadata": {},
   "outputs": [
    {
     "name": "stdout",
     "output_type": "stream",
     "text": [
      "E-mail enviado com sucesso!\n"
     ]
    }
   ],
   "source": [
    "# configurar uma pausa entre as ações do pyautogui\n",
    "pyautogui.PAUSE = 3\n",
    "# abrir uma nova aba\n",
    "pyautogui.hotkey(\"ctrl\", \"t\")\n",
    "# copiar o endereço do gmail para o clipboard\n",
    "pyperclip.copy(\"www.gmail.com\")\n",
    "# colar o endereço do gmail e dar um ENTER\n",
    "pyautogui.hotkey(\"ctrl\", \"v\")\n",
    "pyautogui.press(\"enter\")\n",
    "# clicando no botão Escrever\n",
    "pyautogui.click(x=111, y=249)\n",
    "# Preenchendo o destinatário\n",
    "pyperclip.copy(destinatario)\n",
    "pyautogui.hotkey(\"ctrl\", \"v\")\n",
    "pyautogui.press(\"tab\")\n",
    "# Preenchendo o assunto\n",
    "pyperclip.copy(assunto)\n",
    "pyautogui.hotkey(\"ctrl\", \"v\")\n",
    "pyautogui.press(\"tab\")\n",
    "# Preenchendo a mensagem\n",
    "pyperclip.copy(mensagem)\n",
    "pyautogui.hotkey(\"ctrl\", \"v\")\n",
    "# Clicar no botão Enviar\n",
    "pyautogui.click(x=1216, y=982)\n",
    "# fechar a aba do gmail\n",
    "pyautogui.hotkey(\"ctrl\", \"f4\")\n",
    "# Imprimir mensagem de enviado com sucesso\n",
    "print('E-mail enviado com sucesso!')"
   ]
  },
  {
   "cell_type": "markdown",
   "id": "c3697f2d",
   "metadata": {},
   "source": [
    "# Código para descobrir as coordenados do mouse"
   ]
  },
  {
   "cell_type": "code",
   "execution_count": 14,
   "id": "66dd2bc0",
   "metadata": {},
   "outputs": [
    {
     "data": {
      "text/plain": [
       "Point(x=1780, y=592)"
      ]
     },
     "execution_count": 14,
     "metadata": {},
     "output_type": "execute_result"
    }
   ],
   "source": [
    "import time\n",
    "time.sleep(5)\n",
    "pyautogui.position()"
   ]
  },
  {
   "cell_type": "code",
   "execution_count": null,
   "id": "aaa1e649",
   "metadata": {},
   "outputs": [],
   "source": []
  }
 ],
 "metadata": {
  "kernelspec": {
   "display_name": "Python 3 (ipykernel)",
   "language": "python",
   "name": "python3"
  },
  "language_info": {
   "codemirror_mode": {
    "name": "ipython",
    "version": 3
   },
   "file_extension": ".py",
   "mimetype": "text/x-python",
   "name": "python",
   "nbconvert_exporter": "python",
   "pygments_lexer": "ipython3",
   "version": "3.11.5"
  }
 },
 "nbformat": 4,
 "nbformat_minor": 5
}
